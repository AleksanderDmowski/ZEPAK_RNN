{
  "cells": [
    {
      "attachments": {},
      "cell_type": "markdown",
      "metadata": {
        "colab_type": "text",
        "id": "xpAuMVCwfWs8"
      },
      "source": [
        "# Recurrent Neural Network"
      ]
    },
    {
      "attachments": {},
      "cell_type": "markdown",
      "metadata": {
        "colab_type": "text",
        "id": "nxJfRe4bfYVA"
      },
      "source": [
        "## Part 1 - Data Preprocessing"
      ]
    },
    {
      "attachments": {},
      "cell_type": "markdown",
      "metadata": {
        "colab_type": "text",
        "id": "ir9zwETrfbrp"
      },
      "source": [
        "### Importing the libraries"
      ]
    },
    {
      "cell_type": "code",
      "execution_count": 5,
      "metadata": {
        "colab": {},
        "colab_type": "code",
        "id": "ZT1f24vHffuf"
      },
      "outputs": [],
      "source": [
        "import numpy as np\n",
        "import matplotlib.pyplot as plt\n",
        "import pandas as pd"
      ]
    },
    {
      "cell_type": "code",
      "execution_count": 6,
      "metadata": {},
      "outputs": [],
      "source": [
        "from datetime import datetime, timedelta"
      ]
    },
    {
      "attachments": {},
      "cell_type": "markdown",
      "metadata": {
        "colab_type": "text",
        "id": "nQ47JAxrgmaL"
      },
      "source": [
        "### Importing the training set"
      ]
    },
    {
      "cell_type": "code",
      "execution_count": 49,
      "metadata": {
        "colab": {},
        "colab_type": "code",
        "id": "1xiv3pJOgqY3"
      },
      "outputs": [
        {
          "name": "stdout",
          "output_type": "stream",
          "text": [
            "2023-08-11\n",
            "2957 2922 35\n"
          ]
        }
      ],
      "source": [
        "dataset= pd.read_csv('GPW_ZEPAK.csv')\n",
        "\n",
        "iloc1=4\n",
        "iloc2=5\n",
        "\n",
        "\n",
        "ostatnia_wartosc = dataset['Dzień'].iloc[-1]\n",
        "ostatnia_wartosc = pd.to_datetime(ostatnia_wartosc).strftime('%Y-%m-%d')\n",
        "ostatnia_wartosc= str(ostatnia_wartosc)\n",
        "\n",
        "delta=10\n",
        "\n",
        "data= datetime.strptime(ostatnia_wartosc, '%Y-%m-%d')\n",
        "data= data-timedelta(days = delta)\n",
        "data= pd.to_datetime(data).strftime('%Y-%m-%d')\n",
        "print(data)\n",
        "\n",
        "dataset_train1= dataset[dataset['Dzień'] < data]\n",
        "training_set1 = dataset_train1.iloc[:,iloc1:iloc2].values\n",
        "arr = training_set1\n",
        "\n",
        "# Zmiana typu z string na int\n",
        "for i in range(len(arr)):\n",
        "    arr[i] = round(float(arr[i][0].replace(',', '.')), 3)\n",
        "training_set = arr\n",
        "\n",
        "dataset_test1 = dataset[dataset['Dzień'] >= data]\n",
        "\n",
        "\n",
        "print(len(dataset),len(training_set),len(dataset_test1))\n",
        "\n"
      ]
    },
    {
      "cell_type": "code",
      "execution_count": 55,
      "metadata": {},
      "outputs": [
        {
          "data": {
            "text/html": [
              "<div>\n",
              "<style scoped>\n",
              "    .dataframe tbody tr th:only-of-type {\n",
              "        vertical-align: middle;\n",
              "    }\n",
              "\n",
              "    .dataframe tbody tr th {\n",
              "        vertical-align: top;\n",
              "    }\n",
              "\n",
              "    .dataframe thead th {\n",
              "        text-align: right;\n",
              "    }\n",
              "</style>\n",
              "<table border=\"1\" class=\"dataframe\">\n",
              "  <thead>\n",
              "    <tr style=\"text-align: right;\">\n",
              "      <th></th>\n",
              "      <th>Nazwa spółki</th>\n",
              "      <th>Kurs otwarcia</th>\n",
              "      <th>Kurs min</th>\n",
              "      <th>Kurs max</th>\n",
              "      <th>Kurs zamknięcia</th>\n",
              "      <th>Zmiana kursu w procent</th>\n",
              "      <th>Wolumen obrotu w szt</th>\n",
              "      <th>Lista transkacji</th>\n",
              "      <th>Wartość obrotu w tys</th>\n",
              "      <th>Dzień</th>\n",
              "    </tr>\n",
              "  </thead>\n",
              "  <tbody>\n",
              "    <tr>\n",
              "      <th>2892</th>\n",
              "      <td>ZEPAK</td>\n",
              "      <td>20,0500</td>\n",
              "      <td>20,4000</td>\n",
              "      <td>19,8600</td>\n",
              "      <td>19,8800</td>\n",
              "      <td>-0,85</td>\n",
              "      <td>9519</td>\n",
              "      <td>167</td>\n",
              "      <td>190,52</td>\n",
              "      <td>2023-08-11 00:00:00</td>\n",
              "    </tr>\n",
              "    <tr>\n",
              "      <th>2896</th>\n",
              "      <td>ZEPAK</td>\n",
              "      <td>20,0500</td>\n",
              "      <td>20,4000</td>\n",
              "      <td>19,8600</td>\n",
              "      <td>19,8800</td>\n",
              "      <td>-0,85</td>\n",
              "      <td>9519</td>\n",
              "      <td>167</td>\n",
              "      <td>190,52</td>\n",
              "      <td>2023-08-11 00:00:00</td>\n",
              "    </tr>\n",
              "    <tr>\n",
              "      <th>2900</th>\n",
              "      <td>ZEPAK</td>\n",
              "      <td>20,0500</td>\n",
              "      <td>20,4000</td>\n",
              "      <td>19,8600</td>\n",
              "      <td>19,8800</td>\n",
              "      <td>-0,85</td>\n",
              "      <td>9519</td>\n",
              "      <td>167</td>\n",
              "      <td>190,52</td>\n",
              "      <td>2023-08-11 00:00:00</td>\n",
              "    </tr>\n",
              "    <tr>\n",
              "      <th>2904</th>\n",
              "      <td>ZEPAK</td>\n",
              "      <td>20,0500</td>\n",
              "      <td>20,4000</td>\n",
              "      <td>19,8600</td>\n",
              "      <td>19,8800</td>\n",
              "      <td>-0,85</td>\n",
              "      <td>9519</td>\n",
              "      <td>167</td>\n",
              "      <td>190,52</td>\n",
              "      <td>2023-08-11 00:00:00</td>\n",
              "    </tr>\n",
              "    <tr>\n",
              "      <th>2905</th>\n",
              "      <td>ZEPAK</td>\n",
              "      <td>19,8800</td>\n",
              "      <td>19,9000</td>\n",
              "      <td>19,5200</td>\n",
              "      <td>19,8800</td>\n",
              "      <td>0,00</td>\n",
              "      <td>12247</td>\n",
              "      <td>190</td>\n",
              "      <td>241,30</td>\n",
              "      <td>2023-08-14 00:00:00</td>\n",
              "    </tr>\n",
              "    <tr>\n",
              "      <th>2909</th>\n",
              "      <td>ZEPAK</td>\n",
              "      <td>20,0500</td>\n",
              "      <td>20,4000</td>\n",
              "      <td>19,8600</td>\n",
              "      <td>19,8800</td>\n",
              "      <td>-0,85</td>\n",
              "      <td>9519</td>\n",
              "      <td>167</td>\n",
              "      <td>190,52</td>\n",
              "      <td>2023-08-11 00:00:00</td>\n",
              "    </tr>\n",
              "    <tr>\n",
              "      <th>2910</th>\n",
              "      <td>ZEPAK</td>\n",
              "      <td>19,8800</td>\n",
              "      <td>19,9000</td>\n",
              "      <td>19,5200</td>\n",
              "      <td>19,8800</td>\n",
              "      <td>0,00</td>\n",
              "      <td>12247</td>\n",
              "      <td>190</td>\n",
              "      <td>241,30</td>\n",
              "      <td>2023-08-14 00:00:00</td>\n",
              "    </tr>\n",
              "    <tr>\n",
              "      <th>2914</th>\n",
              "      <td>ZEPAK</td>\n",
              "      <td>20,0500</td>\n",
              "      <td>20,4000</td>\n",
              "      <td>19,8600</td>\n",
              "      <td>19,8800</td>\n",
              "      <td>-0,85</td>\n",
              "      <td>9519</td>\n",
              "      <td>167</td>\n",
              "      <td>190,52</td>\n",
              "      <td>2023-08-11 00:00:00</td>\n",
              "    </tr>\n",
              "    <tr>\n",
              "      <th>2915</th>\n",
              "      <td>ZEPAK</td>\n",
              "      <td>19,8800</td>\n",
              "      <td>19,9000</td>\n",
              "      <td>19,5200</td>\n",
              "      <td>19,8800</td>\n",
              "      <td>0,00</td>\n",
              "      <td>12247</td>\n",
              "      <td>190</td>\n",
              "      <td>241,30</td>\n",
              "      <td>2023-08-14 00:00:00</td>\n",
              "    </tr>\n",
              "    <tr>\n",
              "      <th>2916</th>\n",
              "      <td>ZEPAK</td>\n",
              "      <td>19,8800</td>\n",
              "      <td>20,1000</td>\n",
              "      <td>19,4400</td>\n",
              "      <td>19,6000</td>\n",
              "      <td>-1,41</td>\n",
              "      <td>20184</td>\n",
              "      <td>294</td>\n",
              "      <td>396,50</td>\n",
              "      <td>2023-08-16 00:00:00</td>\n",
              "    </tr>\n",
              "    <tr>\n",
              "      <th>2920</th>\n",
              "      <td>ZEPAK</td>\n",
              "      <td>20,0500</td>\n",
              "      <td>20,4000</td>\n",
              "      <td>19,8600</td>\n",
              "      <td>19,8800</td>\n",
              "      <td>-0,85</td>\n",
              "      <td>9519</td>\n",
              "      <td>167</td>\n",
              "      <td>190,52</td>\n",
              "      <td>2023-08-11 00:00:00</td>\n",
              "    </tr>\n",
              "    <tr>\n",
              "      <th>2921</th>\n",
              "      <td>ZEPAK</td>\n",
              "      <td>19,8800</td>\n",
              "      <td>19,9000</td>\n",
              "      <td>19,5200</td>\n",
              "      <td>19,8800</td>\n",
              "      <td>0,00</td>\n",
              "      <td>12247</td>\n",
              "      <td>190</td>\n",
              "      <td>241,30</td>\n",
              "      <td>2023-08-14 00:00:00</td>\n",
              "    </tr>\n",
              "    <tr>\n",
              "      <th>2922</th>\n",
              "      <td>ZEPAK</td>\n",
              "      <td>19,8800</td>\n",
              "      <td>20,1000</td>\n",
              "      <td>19,4400</td>\n",
              "      <td>19,6000</td>\n",
              "      <td>-1,41</td>\n",
              "      <td>20184</td>\n",
              "      <td>294</td>\n",
              "      <td>396,50</td>\n",
              "      <td>2023-08-16 00:00:00</td>\n",
              "    </tr>\n",
              "    <tr>\n",
              "      <th>2923</th>\n",
              "      <td>ZEPAK</td>\n",
              "      <td>19,7200</td>\n",
              "      <td>20,0000</td>\n",
              "      <td>19,5000</td>\n",
              "      <td>19,5600</td>\n",
              "      <td>-0,20</td>\n",
              "      <td>9433</td>\n",
              "      <td>148</td>\n",
              "      <td>185,72</td>\n",
              "      <td>2023-08-17 00:00:00</td>\n",
              "    </tr>\n",
              "    <tr>\n",
              "      <th>2927</th>\n",
              "      <td>ZEPAK</td>\n",
              "      <td>20,0500</td>\n",
              "      <td>20,4000</td>\n",
              "      <td>19,8600</td>\n",
              "      <td>19,8800</td>\n",
              "      <td>-0,85</td>\n",
              "      <td>9519</td>\n",
              "      <td>167</td>\n",
              "      <td>190,52</td>\n",
              "      <td>2023-08-11 00:00:00</td>\n",
              "    </tr>\n",
              "    <tr>\n",
              "      <th>2928</th>\n",
              "      <td>ZEPAK</td>\n",
              "      <td>19,8800</td>\n",
              "      <td>19,9000</td>\n",
              "      <td>19,5200</td>\n",
              "      <td>19,8800</td>\n",
              "      <td>0,00</td>\n",
              "      <td>12247</td>\n",
              "      <td>190</td>\n",
              "      <td>241,30</td>\n",
              "      <td>2023-08-14 00:00:00</td>\n",
              "    </tr>\n",
              "    <tr>\n",
              "      <th>2929</th>\n",
              "      <td>ZEPAK</td>\n",
              "      <td>19,8800</td>\n",
              "      <td>20,1000</td>\n",
              "      <td>19,4400</td>\n",
              "      <td>19,6000</td>\n",
              "      <td>-1,41</td>\n",
              "      <td>20184</td>\n",
              "      <td>294</td>\n",
              "      <td>396,50</td>\n",
              "      <td>2023-08-16 00:00:00</td>\n",
              "    </tr>\n",
              "    <tr>\n",
              "      <th>2930</th>\n",
              "      <td>ZEPAK</td>\n",
              "      <td>19,7200</td>\n",
              "      <td>20,0000</td>\n",
              "      <td>19,5000</td>\n",
              "      <td>19,5600</td>\n",
              "      <td>-0,20</td>\n",
              "      <td>9433</td>\n",
              "      <td>148</td>\n",
              "      <td>185,72</td>\n",
              "      <td>2023-08-17 00:00:00</td>\n",
              "    </tr>\n",
              "    <tr>\n",
              "      <th>2931</th>\n",
              "      <td>ZEPAK</td>\n",
              "      <td>19,5600</td>\n",
              "      <td>19,7000</td>\n",
              "      <td>19,4200</td>\n",
              "      <td>19,4200</td>\n",
              "      <td>-0,72</td>\n",
              "      <td>8733</td>\n",
              "      <td>104</td>\n",
              "      <td>170,46</td>\n",
              "      <td>2023-08-18 00:00:00</td>\n",
              "    </tr>\n",
              "    <tr>\n",
              "      <th>2935</th>\n",
              "      <td>ZEPAK</td>\n",
              "      <td>20,0500</td>\n",
              "      <td>20,4000</td>\n",
              "      <td>19,8600</td>\n",
              "      <td>19,8800</td>\n",
              "      <td>-0,85</td>\n",
              "      <td>9519</td>\n",
              "      <td>167</td>\n",
              "      <td>190,52</td>\n",
              "      <td>2023-08-11 00:00:00</td>\n",
              "    </tr>\n",
              "    <tr>\n",
              "      <th>2936</th>\n",
              "      <td>ZEPAK</td>\n",
              "      <td>19,8800</td>\n",
              "      <td>19,9000</td>\n",
              "      <td>19,5200</td>\n",
              "      <td>19,8800</td>\n",
              "      <td>0,00</td>\n",
              "      <td>12247</td>\n",
              "      <td>190</td>\n",
              "      <td>241,30</td>\n",
              "      <td>2023-08-14 00:00:00</td>\n",
              "    </tr>\n",
              "    <tr>\n",
              "      <th>2937</th>\n",
              "      <td>ZEPAK</td>\n",
              "      <td>19,8800</td>\n",
              "      <td>20,1000</td>\n",
              "      <td>19,4400</td>\n",
              "      <td>19,6000</td>\n",
              "      <td>-1,41</td>\n",
              "      <td>20184</td>\n",
              "      <td>294</td>\n",
              "      <td>396,50</td>\n",
              "      <td>2023-08-16 00:00:00</td>\n",
              "    </tr>\n",
              "    <tr>\n",
              "      <th>2938</th>\n",
              "      <td>ZEPAK</td>\n",
              "      <td>19,7200</td>\n",
              "      <td>20,0000</td>\n",
              "      <td>19,5000</td>\n",
              "      <td>19,5600</td>\n",
              "      <td>-0,20</td>\n",
              "      <td>9433</td>\n",
              "      <td>148</td>\n",
              "      <td>185,72</td>\n",
              "      <td>2023-08-17 00:00:00</td>\n",
              "    </tr>\n",
              "    <tr>\n",
              "      <th>2939</th>\n",
              "      <td>ZEPAK</td>\n",
              "      <td>19,5600</td>\n",
              "      <td>19,7000</td>\n",
              "      <td>19,4200</td>\n",
              "      <td>19,4200</td>\n",
              "      <td>-0,72</td>\n",
              "      <td>8733</td>\n",
              "      <td>104</td>\n",
              "      <td>170,46</td>\n",
              "      <td>2023-08-18 00:00:00</td>\n",
              "    </tr>\n",
              "    <tr>\n",
              "      <th>2943</th>\n",
              "      <td>ZEPAK</td>\n",
              "      <td>20,0500</td>\n",
              "      <td>20,4000</td>\n",
              "      <td>19,8600</td>\n",
              "      <td>19,8800</td>\n",
              "      <td>-0,85</td>\n",
              "      <td>9519</td>\n",
              "      <td>167</td>\n",
              "      <td>190,52</td>\n",
              "      <td>2023-08-11 00:00:00</td>\n",
              "    </tr>\n",
              "    <tr>\n",
              "      <th>2944</th>\n",
              "      <td>ZEPAK</td>\n",
              "      <td>19,8800</td>\n",
              "      <td>19,9000</td>\n",
              "      <td>19,5200</td>\n",
              "      <td>19,8800</td>\n",
              "      <td>0,00</td>\n",
              "      <td>12247</td>\n",
              "      <td>190</td>\n",
              "      <td>241,30</td>\n",
              "      <td>2023-08-14 00:00:00</td>\n",
              "    </tr>\n",
              "    <tr>\n",
              "      <th>2945</th>\n",
              "      <td>ZEPAK</td>\n",
              "      <td>19,8800</td>\n",
              "      <td>20,1000</td>\n",
              "      <td>19,4400</td>\n",
              "      <td>19,6000</td>\n",
              "      <td>-1,41</td>\n",
              "      <td>20184</td>\n",
              "      <td>294</td>\n",
              "      <td>396,50</td>\n",
              "      <td>2023-08-16 00:00:00</td>\n",
              "    </tr>\n",
              "    <tr>\n",
              "      <th>2946</th>\n",
              "      <td>ZEPAK</td>\n",
              "      <td>19,7200</td>\n",
              "      <td>20,0000</td>\n",
              "      <td>19,5000</td>\n",
              "      <td>19,5600</td>\n",
              "      <td>-0,20</td>\n",
              "      <td>9433</td>\n",
              "      <td>148</td>\n",
              "      <td>185,72</td>\n",
              "      <td>2023-08-17 00:00:00</td>\n",
              "    </tr>\n",
              "    <tr>\n",
              "      <th>2947</th>\n",
              "      <td>ZEPAK</td>\n",
              "      <td>19,5600</td>\n",
              "      <td>19,7000</td>\n",
              "      <td>19,4200</td>\n",
              "      <td>19,4200</td>\n",
              "      <td>-0,72</td>\n",
              "      <td>8733</td>\n",
              "      <td>104</td>\n",
              "      <td>170,46</td>\n",
              "      <td>2023-08-18 00:00:00</td>\n",
              "    </tr>\n",
              "    <tr>\n",
              "      <th>2951</th>\n",
              "      <td>ZEPAK</td>\n",
              "      <td>20,0500</td>\n",
              "      <td>20,4000</td>\n",
              "      <td>19,8600</td>\n",
              "      <td>19,8800</td>\n",
              "      <td>-0,85</td>\n",
              "      <td>9519</td>\n",
              "      <td>167</td>\n",
              "      <td>190,52</td>\n",
              "      <td>2023-08-11 00:00:00</td>\n",
              "    </tr>\n",
              "    <tr>\n",
              "      <th>2952</th>\n",
              "      <td>ZEPAK</td>\n",
              "      <td>19,8800</td>\n",
              "      <td>19,9000</td>\n",
              "      <td>19,5200</td>\n",
              "      <td>19,8800</td>\n",
              "      <td>0,00</td>\n",
              "      <td>12247</td>\n",
              "      <td>190</td>\n",
              "      <td>241,30</td>\n",
              "      <td>2023-08-14 00:00:00</td>\n",
              "    </tr>\n",
              "    <tr>\n",
              "      <th>2953</th>\n",
              "      <td>ZEPAK</td>\n",
              "      <td>19,8800</td>\n",
              "      <td>20,1000</td>\n",
              "      <td>19,4400</td>\n",
              "      <td>19,6000</td>\n",
              "      <td>-1,41</td>\n",
              "      <td>20184</td>\n",
              "      <td>294</td>\n",
              "      <td>396,50</td>\n",
              "      <td>2023-08-16 00:00:00</td>\n",
              "    </tr>\n",
              "    <tr>\n",
              "      <th>2954</th>\n",
              "      <td>ZEPAK</td>\n",
              "      <td>19,7200</td>\n",
              "      <td>20,0000</td>\n",
              "      <td>19,5000</td>\n",
              "      <td>19,5600</td>\n",
              "      <td>-0,20</td>\n",
              "      <td>9433</td>\n",
              "      <td>148</td>\n",
              "      <td>185,72</td>\n",
              "      <td>2023-08-17 00:00:00</td>\n",
              "    </tr>\n",
              "    <tr>\n",
              "      <th>2955</th>\n",
              "      <td>ZEPAK</td>\n",
              "      <td>19,5600</td>\n",
              "      <td>19,7000</td>\n",
              "      <td>19,4200</td>\n",
              "      <td>19,4200</td>\n",
              "      <td>-0,72</td>\n",
              "      <td>8733</td>\n",
              "      <td>104</td>\n",
              "      <td>170,46</td>\n",
              "      <td>2023-08-18 00:00:00</td>\n",
              "    </tr>\n",
              "    <tr>\n",
              "      <th>2956</th>\n",
              "      <td>ZEPAK</td>\n",
              "      <td>19,4400</td>\n",
              "      <td>19,8800</td>\n",
              "      <td>19,4000</td>\n",
              "      <td>19,4600</td>\n",
              "      <td>0,21</td>\n",
              "      <td>10480</td>\n",
              "      <td>98</td>\n",
              "      <td>205,64</td>\n",
              "      <td>2023-08-21 00:00:00</td>\n",
              "    </tr>\n",
              "  </tbody>\n",
              "</table>\n",
              "</div>"
            ],
            "text/plain": [
              "     Nazwa spółki Kurs otwarcia Kurs min Kurs max Kurs zamknięcia   \n",
              "2892        ZEPAK       20,0500  20,4000  19,8600         19,8800  \\\n",
              "2896        ZEPAK       20,0500  20,4000  19,8600         19,8800   \n",
              "2900        ZEPAK       20,0500  20,4000  19,8600         19,8800   \n",
              "2904        ZEPAK       20,0500  20,4000  19,8600         19,8800   \n",
              "2905        ZEPAK       19,8800  19,9000  19,5200         19,8800   \n",
              "2909        ZEPAK       20,0500  20,4000  19,8600         19,8800   \n",
              "2910        ZEPAK       19,8800  19,9000  19,5200         19,8800   \n",
              "2914        ZEPAK       20,0500  20,4000  19,8600         19,8800   \n",
              "2915        ZEPAK       19,8800  19,9000  19,5200         19,8800   \n",
              "2916        ZEPAK       19,8800  20,1000  19,4400         19,6000   \n",
              "2920        ZEPAK       20,0500  20,4000  19,8600         19,8800   \n",
              "2921        ZEPAK       19,8800  19,9000  19,5200         19,8800   \n",
              "2922        ZEPAK       19,8800  20,1000  19,4400         19,6000   \n",
              "2923        ZEPAK       19,7200  20,0000  19,5000         19,5600   \n",
              "2927        ZEPAK       20,0500  20,4000  19,8600         19,8800   \n",
              "2928        ZEPAK       19,8800  19,9000  19,5200         19,8800   \n",
              "2929        ZEPAK       19,8800  20,1000  19,4400         19,6000   \n",
              "2930        ZEPAK       19,7200  20,0000  19,5000         19,5600   \n",
              "2931        ZEPAK       19,5600  19,7000  19,4200         19,4200   \n",
              "2935        ZEPAK       20,0500  20,4000  19,8600         19,8800   \n",
              "2936        ZEPAK       19,8800  19,9000  19,5200         19,8800   \n",
              "2937        ZEPAK       19,8800  20,1000  19,4400         19,6000   \n",
              "2938        ZEPAK       19,7200  20,0000  19,5000         19,5600   \n",
              "2939        ZEPAK       19,5600  19,7000  19,4200         19,4200   \n",
              "2943        ZEPAK       20,0500  20,4000  19,8600         19,8800   \n",
              "2944        ZEPAK       19,8800  19,9000  19,5200         19,8800   \n",
              "2945        ZEPAK       19,8800  20,1000  19,4400         19,6000   \n",
              "2946        ZEPAK       19,7200  20,0000  19,5000         19,5600   \n",
              "2947        ZEPAK       19,5600  19,7000  19,4200         19,4200   \n",
              "2951        ZEPAK       20,0500  20,4000  19,8600         19,8800   \n",
              "2952        ZEPAK       19,8800  19,9000  19,5200         19,8800   \n",
              "2953        ZEPAK       19,8800  20,1000  19,4400         19,6000   \n",
              "2954        ZEPAK       19,7200  20,0000  19,5000         19,5600   \n",
              "2955        ZEPAK       19,5600  19,7000  19,4200         19,4200   \n",
              "2956        ZEPAK       19,4400  19,8800  19,4000         19,4600   \n",
              "\n",
              "     Zmiana kursu w procent  Wolumen obrotu w szt  Lista transkacji   \n",
              "2892                  -0,85                  9519               167  \\\n",
              "2896                  -0,85                  9519               167   \n",
              "2900                  -0,85                  9519               167   \n",
              "2904                  -0,85                  9519               167   \n",
              "2905                   0,00                 12247               190   \n",
              "2909                  -0,85                  9519               167   \n",
              "2910                   0,00                 12247               190   \n",
              "2914                  -0,85                  9519               167   \n",
              "2915                   0,00                 12247               190   \n",
              "2916                  -1,41                 20184               294   \n",
              "2920                  -0,85                  9519               167   \n",
              "2921                   0,00                 12247               190   \n",
              "2922                  -1,41                 20184               294   \n",
              "2923                  -0,20                  9433               148   \n",
              "2927                  -0,85                  9519               167   \n",
              "2928                   0,00                 12247               190   \n",
              "2929                  -1,41                 20184               294   \n",
              "2930                  -0,20                  9433               148   \n",
              "2931                  -0,72                  8733               104   \n",
              "2935                  -0,85                  9519               167   \n",
              "2936                   0,00                 12247               190   \n",
              "2937                  -1,41                 20184               294   \n",
              "2938                  -0,20                  9433               148   \n",
              "2939                  -0,72                  8733               104   \n",
              "2943                  -0,85                  9519               167   \n",
              "2944                   0,00                 12247               190   \n",
              "2945                  -1,41                 20184               294   \n",
              "2946                  -0,20                  9433               148   \n",
              "2947                  -0,72                  8733               104   \n",
              "2951                  -0,85                  9519               167   \n",
              "2952                   0,00                 12247               190   \n",
              "2953                  -1,41                 20184               294   \n",
              "2954                  -0,20                  9433               148   \n",
              "2955                  -0,72                  8733               104   \n",
              "2956                   0,21                 10480                98   \n",
              "\n",
              "     Wartość obrotu w tys                Dzień  \n",
              "2892               190,52  2023-08-11 00:00:00  \n",
              "2896               190,52  2023-08-11 00:00:00  \n",
              "2900               190,52  2023-08-11 00:00:00  \n",
              "2904               190,52  2023-08-11 00:00:00  \n",
              "2905               241,30  2023-08-14 00:00:00  \n",
              "2909               190,52  2023-08-11 00:00:00  \n",
              "2910               241,30  2023-08-14 00:00:00  \n",
              "2914               190,52  2023-08-11 00:00:00  \n",
              "2915               241,30  2023-08-14 00:00:00  \n",
              "2916               396,50  2023-08-16 00:00:00  \n",
              "2920               190,52  2023-08-11 00:00:00  \n",
              "2921               241,30  2023-08-14 00:00:00  \n",
              "2922               396,50  2023-08-16 00:00:00  \n",
              "2923               185,72  2023-08-17 00:00:00  \n",
              "2927               190,52  2023-08-11 00:00:00  \n",
              "2928               241,30  2023-08-14 00:00:00  \n",
              "2929               396,50  2023-08-16 00:00:00  \n",
              "2930               185,72  2023-08-17 00:00:00  \n",
              "2931               170,46  2023-08-18 00:00:00  \n",
              "2935               190,52  2023-08-11 00:00:00  \n",
              "2936               241,30  2023-08-14 00:00:00  \n",
              "2937               396,50  2023-08-16 00:00:00  \n",
              "2938               185,72  2023-08-17 00:00:00  \n",
              "2939               170,46  2023-08-18 00:00:00  \n",
              "2943               190,52  2023-08-11 00:00:00  \n",
              "2944               241,30  2023-08-14 00:00:00  \n",
              "2945               396,50  2023-08-16 00:00:00  \n",
              "2946               185,72  2023-08-17 00:00:00  \n",
              "2947               170,46  2023-08-18 00:00:00  \n",
              "2951               190,52  2023-08-11 00:00:00  \n",
              "2952               241,30  2023-08-14 00:00:00  \n",
              "2953               396,50  2023-08-16 00:00:00  \n",
              "2954               185,72  2023-08-17 00:00:00  \n",
              "2955               170,46  2023-08-18 00:00:00  \n",
              "2956               205,64  2023-08-21 00:00:00  "
            ]
          },
          "execution_count": 55,
          "metadata": {},
          "output_type": "execute_result"
        }
      ],
      "source": [
        "dataset_test1"
      ]
    },
    {
      "cell_type": "code",
      "execution_count": 19,
      "metadata": {},
      "outputs": [
        {
          "data": {
            "text/plain": [
              "'2023-08-11'"
            ]
          },
          "execution_count": 19,
          "metadata": {},
          "output_type": "execute_result"
        }
      ],
      "source": [
        "data"
      ]
    },
    {
      "cell_type": "code",
      "execution_count": 20,
      "metadata": {},
      "outputs": [
        {
          "data": {
            "text/plain": [
              "'2023-08-21'"
            ]
          },
          "execution_count": 20,
          "metadata": {},
          "output_type": "execute_result"
        }
      ],
      "source": [
        "ostatnia_wartosc\n"
      ]
    },
    {
      "attachments": {},
      "cell_type": "markdown",
      "metadata": {
        "colab_type": "text",
        "id": "HT8_2UJegtG5"
      },
      "source": [
        "### Feature Scaling"
      ]
    },
    {
      "cell_type": "code",
      "execution_count": 21,
      "metadata": {
        "colab": {},
        "colab_type": "code",
        "id": "OTrF2kR7gx9x"
      },
      "outputs": [],
      "source": [
        "from sklearn.preprocessing import MinMaxScaler\n",
        "sc = MinMaxScaler(feature_range = (0, 1))\n",
        "training_set_scaled = sc.fit_transform(training_set)\n"
      ]
    },
    {
      "attachments": {},
      "cell_type": "markdown",
      "metadata": {
        "colab_type": "text",
        "id": "JyYgYocqhNUg"
      },
      "source": [
        "### Creating a data structure with 60 timesteps and 1 output"
      ]
    },
    {
      "cell_type": "code",
      "execution_count": 22,
      "metadata": {
        "colab": {},
        "colab_type": "code",
        "id": "iofU21B0i6ST"
      },
      "outputs": [],
      "source": [
        "X_train = []\n",
        "y_train = []\n",
        "X_train2 = []\n",
        "timestep=120\n",
        "for i in range(timestep,  len(training_set)):\n",
        "    X_train.append(training_set_scaled[i-timestep:i, 0])\n",
        "    y_train.append(training_set_scaled[i, 0])\n",
        "X_train, y_train = np.array(X_train), np.array(y_train)"
      ]
    },
    {
      "attachments": {},
      "cell_type": "markdown",
      "metadata": {
        "colab_type": "text",
        "id": "D8yaN7Zvi95l"
      },
      "source": [
        "### Reshaping"
      ]
    },
    {
      "cell_type": "code",
      "execution_count": 23,
      "metadata": {
        "colab": {},
        "colab_type": "code",
        "id": "FOXqJHmNjBkz"
      },
      "outputs": [],
      "source": [
        "X_train = np.reshape(X_train, (X_train.shape[0], X_train.shape[1], 1))\n"
      ]
    },
    {
      "attachments": {},
      "cell_type": "markdown",
      "metadata": {
        "colab_type": "text",
        "id": "ZRRSOJeVjEWV"
      },
      "source": [
        "## Part 2 - Building and Training the RNN"
      ]
    },
    {
      "attachments": {},
      "cell_type": "markdown",
      "metadata": {
        "colab_type": "text",
        "id": "k4XV88JMjHXG"
      },
      "source": [
        "### Importing the Keras libraries and packages"
      ]
    },
    {
      "cell_type": "code",
      "execution_count": 24,
      "metadata": {
        "colab": {
          "base_uri": "https://localhost:8080/",
          "height": 34
        },
        "colab_type": "code",
        "id": "9JRnqsxEjKsD",
        "outputId": "b3e23e78-18aa-4396-c923-c877b8de60e4"
      },
      "outputs": [],
      "source": [
        "from keras.models import Sequential\n",
        "from keras.layers import Dense\n",
        "from keras.layers import LSTM\n",
        "from keras.layers import Dropout\n",
        "from keras.backend import clear_session\n",
        "import tensorflow as tf\n",
        "tf.compat.v1.reset_default_graph()\n",
        "clear_session() \n"
      ]
    },
    {
      "attachments": {},
      "cell_type": "markdown",
      "metadata": {
        "colab_type": "text",
        "id": "FEIE-1s9jNzC"
      },
      "source": [
        "### Initialising the RNN"
      ]
    },
    {
      "cell_type": "code",
      "execution_count": 25,
      "metadata": {
        "colab": {},
        "colab_type": "code",
        "id": "1338dJ0UjRKH"
      },
      "outputs": [],
      "source": [
        "regressor = Sequential()"
      ]
    },
    {
      "attachments": {},
      "cell_type": "markdown",
      "metadata": {
        "colab_type": "text",
        "id": "62eg1OPGjT8z"
      },
      "source": [
        "### Adding the first LSTM layer and some Dropout regularisation"
      ]
    },
    {
      "cell_type": "code",
      "execution_count": 26,
      "metadata": {
        "colab": {},
        "colab_type": "code",
        "id": "2hIinyXUjbVU"
      },
      "outputs": [],
      "source": [
        "regressor.add(LSTM(units = 60, return_sequences=True, input_shape=(X_train.shape[1], X_train.shape[2])))\n",
        "regressor.add(Dropout(0.2))"
      ]
    },
    {
      "attachments": {},
      "cell_type": "markdown",
      "metadata": {
        "colab_type": "text",
        "id": "3XBIYLyOjlMx"
      },
      "source": [
        "### Adding a second LSTM layer and some Dropout regularisation"
      ]
    },
    {
      "cell_type": "code",
      "execution_count": 27,
      "metadata": {
        "colab": {},
        "colab_type": "code",
        "id": "UG7nrVaSjuZ2"
      },
      "outputs": [],
      "source": [
        "regressor.add(LSTM(units = 60, return_sequences = True))\n",
        "regressor.add(Dropout(0.2))"
      ]
    },
    {
      "attachments": {},
      "cell_type": "markdown",
      "metadata": {
        "colab_type": "text",
        "id": "Ey3fHVnGj1cu"
      },
      "source": [
        "### Adding a third LSTM layer and some Dropout regularisation"
      ]
    },
    {
      "cell_type": "code",
      "execution_count": 28,
      "metadata": {
        "colab": {},
        "colab_type": "code",
        "id": "PuNi6PgFj7jO"
      },
      "outputs": [],
      "source": [
        "regressor.add(LSTM(units = 60, return_sequences = True))\n",
        "regressor.add(Dropout(0.2))"
      ]
    },
    {
      "attachments": {},
      "cell_type": "markdown",
      "metadata": {
        "colab_type": "text",
        "id": "SYTrtfTmj933"
      },
      "source": [
        "### Adding a fourth LSTM layer and some Dropout regularisation"
      ]
    },
    {
      "cell_type": "code",
      "execution_count": 29,
      "metadata": {
        "colab": {},
        "colab_type": "code",
        "id": "Jp4Ty8fRkBYV"
      },
      "outputs": [],
      "source": [
        "regressor.add(LSTM(units = 60))\n",
        "regressor.add(Dropout(0.2))"
      ]
    },
    {
      "attachments": {},
      "cell_type": "markdown",
      "metadata": {
        "colab_type": "text",
        "id": "9ABI6rOIkHhk"
      },
      "source": [
        "### Adding the output layer"
      ]
    },
    {
      "cell_type": "code",
      "execution_count": 30,
      "metadata": {
        "colab": {},
        "colab_type": "code",
        "id": "aM6R1z4WkME8"
      },
      "outputs": [],
      "source": [
        "regressor.add(Dense(units = 1))"
      ]
    },
    {
      "attachments": {},
      "cell_type": "markdown",
      "metadata": {
        "colab_type": "text",
        "id": "zLx4K7uUkPSh"
      },
      "source": [
        "### Compiling the RNN"
      ]
    },
    {
      "cell_type": "code",
      "execution_count": 31,
      "metadata": {
        "colab": {},
        "colab_type": "code",
        "id": "XTrhVN-tkbko"
      },
      "outputs": [],
      "source": [
        "regressor.compile(optimizer = 'adam', loss = 'mean_squared_error')"
      ]
    },
    {
      "attachments": {},
      "cell_type": "markdown",
      "metadata": {
        "colab_type": "text",
        "id": "-mPhwKGkkebi"
      },
      "source": [
        "### Fitting the RNN to the Training set"
      ]
    },
    {
      "cell_type": "code",
      "execution_count": 32,
      "metadata": {
        "colab": {
          "base_uri": "https://localhost:8080/",
          "height": 1000
        },
        "colab_type": "code",
        "id": "I06Nkrz5kkb-",
        "outputId": "dc9d947a-4d5c-4dbc-ed45-31bf44b98dfb"
      },
      "outputs": [
        {
          "name": "stdout",
          "output_type": "stream",
          "text": [
            "Epoch 1/100\n",
            "88/88 [==============================] - 27s 192ms/step - loss: 0.0115\n",
            "Epoch 2/100\n",
            "88/88 [==============================] - 17s 196ms/step - loss: 0.0039\n",
            "Epoch 3/100\n",
            "88/88 [==============================] - 17s 192ms/step - loss: 0.0040\n",
            "Epoch 4/100\n",
            "88/88 [==============================] - 17s 193ms/step - loss: 0.0031\n",
            "Epoch 5/100\n",
            "88/88 [==============================] - 18s 200ms/step - loss: 0.0028\n",
            "Epoch 6/100\n",
            "88/88 [==============================] - 17s 194ms/step - loss: 0.0028\n",
            "Epoch 7/100\n",
            "88/88 [==============================] - 17s 194ms/step - loss: 0.0025\n",
            "Epoch 8/100\n",
            "88/88 [==============================] - 17s 194ms/step - loss: 0.0023\n",
            "Epoch 9/100\n",
            "88/88 [==============================] - 17s 195ms/step - loss: 0.0023\n",
            "Epoch 10/100\n",
            "88/88 [==============================] - 17s 195ms/step - loss: 0.0021\n",
            "Epoch 11/100\n",
            "88/88 [==============================] - 17s 191ms/step - loss: 0.0020\n",
            "Epoch 12/100\n",
            "88/88 [==============================] - 17s 188ms/step - loss: 0.0020\n",
            "Epoch 13/100\n",
            "88/88 [==============================] - 17s 195ms/step - loss: 0.0019\n",
            "Epoch 14/100\n",
            "88/88 [==============================] - 17s 194ms/step - loss: 0.0017\n",
            "Epoch 15/100\n",
            "88/88 [==============================] - 17s 188ms/step - loss: 0.0016\n",
            "Epoch 16/100\n",
            "88/88 [==============================] - 17s 193ms/step - loss: 0.0016\n",
            "Epoch 17/100\n",
            "88/88 [==============================] - 18s 201ms/step - loss: 0.0015\n",
            "Epoch 18/100\n",
            "88/88 [==============================] - 17s 192ms/step - loss: 0.0017\n",
            "Epoch 19/100\n",
            "88/88 [==============================] - 17s 193ms/step - loss: 0.0015\n",
            "Epoch 20/100\n",
            "88/88 [==============================] - 17s 191ms/step - loss: 0.0016\n",
            "Epoch 21/100\n",
            "88/88 [==============================] - 17s 190ms/step - loss: 0.0014\n",
            "Epoch 22/100\n",
            "88/88 [==============================] - 17s 188ms/step - loss: 0.0013\n",
            "Epoch 23/100\n",
            "88/88 [==============================] - 16s 187ms/step - loss: 0.0014\n",
            "Epoch 24/100\n",
            "88/88 [==============================] - 17s 192ms/step - loss: 0.0015\n",
            "Epoch 25/100\n",
            "88/88 [==============================] - 17s 191ms/step - loss: 0.0012\n",
            "Epoch 26/100\n",
            "88/88 [==============================] - 17s 189ms/step - loss: 0.0012\n",
            "Epoch 27/100\n",
            "88/88 [==============================] - 17s 192ms/step - loss: 0.0013\n",
            "Epoch 28/100\n",
            "88/88 [==============================] - 18s 201ms/step - loss: 0.0011\n",
            "Epoch 29/100\n",
            "88/88 [==============================] - 17s 192ms/step - loss: 0.0013\n",
            "Epoch 30/100\n",
            "88/88 [==============================] - 17s 191ms/step - loss: 0.0012\n",
            "Epoch 31/100\n",
            "88/88 [==============================] - 17s 188ms/step - loss: 0.0012\n",
            "Epoch 32/100\n",
            "88/88 [==============================] - 17s 191ms/step - loss: 0.0011\n",
            "Epoch 33/100\n",
            "88/88 [==============================] - 16s 186ms/step - loss: 0.0011\n",
            "Epoch 34/100\n",
            "88/88 [==============================] - 16s 185ms/step - loss: 0.0012\n",
            "Epoch 35/100\n",
            "88/88 [==============================] - 17s 189ms/step - loss: 0.0011\n",
            "Epoch 36/100\n",
            "88/88 [==============================] - 16s 187ms/step - loss: 0.0011\n",
            "Epoch 37/100\n",
            "88/88 [==============================] - 17s 188ms/step - loss: 0.0010\n",
            "Epoch 38/100\n",
            "88/88 [==============================] - 16s 187ms/step - loss: 0.0010\n",
            "Epoch 39/100\n",
            "88/88 [==============================] - 17s 191ms/step - loss: 0.0010\n",
            "Epoch 40/100\n",
            "88/88 [==============================] - 16s 185ms/step - loss: 9.7696e-04\n",
            "Epoch 41/100\n",
            "88/88 [==============================] - 17s 188ms/step - loss: 0.0011\n",
            "Epoch 42/100\n",
            "88/88 [==============================] - 17s 188ms/step - loss: 9.2203e-04\n",
            "Epoch 43/100\n",
            "88/88 [==============================] - 16s 186ms/step - loss: 9.8425e-04\n",
            "Epoch 44/100\n",
            "88/88 [==============================] - 17s 189ms/step - loss: 9.5814e-04\n",
            "Epoch 45/100\n",
            "88/88 [==============================] - 17s 189ms/step - loss: 9.2755e-04\n",
            "Epoch 46/100\n",
            "88/88 [==============================] - 16s 187ms/step - loss: 9.3977e-04\n",
            "Epoch 47/100\n",
            "88/88 [==============================] - 16s 184ms/step - loss: 9.1942e-04\n",
            "Epoch 48/100\n",
            "88/88 [==============================] - 16s 186ms/step - loss: 9.3872e-04\n",
            "Epoch 49/100\n",
            "88/88 [==============================] - 16s 186ms/step - loss: 8.3857e-04\n",
            "Epoch 50/100\n",
            "88/88 [==============================] - 16s 183ms/step - loss: 9.5918e-04\n",
            "Epoch 51/100\n",
            "88/88 [==============================] - 16s 183ms/step - loss: 8.0718e-04\n",
            "Epoch 52/100\n",
            "88/88 [==============================] - 17s 188ms/step - loss: 9.1510e-04\n",
            "Epoch 53/100\n",
            "88/88 [==============================] - 17s 192ms/step - loss: 8.7857e-04\n",
            "Epoch 54/100\n",
            "88/88 [==============================] - 17s 188ms/step - loss: 8.3645e-04\n",
            "Epoch 55/100\n",
            "88/88 [==============================] - 17s 188ms/step - loss: 8.3379e-04\n",
            "Epoch 56/100\n",
            "88/88 [==============================] - 16s 187ms/step - loss: 8.1335e-04\n",
            "Epoch 57/100\n",
            "88/88 [==============================] - 17s 188ms/step - loss: 7.6822e-04\n",
            "Epoch 58/100\n",
            "88/88 [==============================] - 16s 185ms/step - loss: 8.9415e-04\n",
            "Epoch 59/100\n",
            "88/88 [==============================] - 16s 187ms/step - loss: 8.7429e-04\n",
            "Epoch 60/100\n",
            "88/88 [==============================] - 16s 184ms/step - loss: 7.8604e-04\n",
            "Epoch 61/100\n",
            "88/88 [==============================] - 16s 185ms/step - loss: 8.4002e-04\n",
            "Epoch 62/100\n",
            "88/88 [==============================] - 17s 197ms/step - loss: 8.1471e-04\n",
            "Epoch 63/100\n",
            "88/88 [==============================] - 17s 196ms/step - loss: 7.7787e-04\n",
            "Epoch 64/100\n",
            "88/88 [==============================] - 17s 189ms/step - loss: 8.5491e-04\n",
            "Epoch 65/100\n",
            "88/88 [==============================] - 16s 184ms/step - loss: 9.4838e-04\n",
            "Epoch 66/100\n",
            "88/88 [==============================] - 16s 187ms/step - loss: 7.7416e-04\n",
            "Epoch 67/100\n",
            "88/88 [==============================] - 16s 184ms/step - loss: 8.4736e-04\n",
            "Epoch 68/100\n",
            "88/88 [==============================] - 16s 184ms/step - loss: 8.6029e-04\n",
            "Epoch 69/100\n",
            "88/88 [==============================] - 16s 184ms/step - loss: 8.0440e-04\n",
            "Epoch 70/100\n",
            "88/88 [==============================] - 16s 184ms/step - loss: 7.8285e-04\n",
            "Epoch 71/100\n",
            "88/88 [==============================] - 16s 184ms/step - loss: 7.1198e-04\n",
            "Epoch 72/100\n",
            "88/88 [==============================] - 16s 185ms/step - loss: 7.5792e-04\n",
            "Epoch 73/100\n",
            "88/88 [==============================] - 16s 184ms/step - loss: 7.7647e-04\n",
            "Epoch 74/100\n",
            "88/88 [==============================] - 16s 184ms/step - loss: 8.7354e-04\n",
            "Epoch 75/100\n",
            "88/88 [==============================] - 16s 185ms/step - loss: 7.2782e-04\n",
            "Epoch 76/100\n",
            "88/88 [==============================] - 16s 185ms/step - loss: 7.8149e-04\n",
            "Epoch 77/100\n",
            "88/88 [==============================] - 16s 186ms/step - loss: 7.4788e-04\n",
            "Epoch 78/100\n",
            "88/88 [==============================] - 16s 184ms/step - loss: 7.9198e-04\n",
            "Epoch 79/100\n",
            "88/88 [==============================] - 16s 185ms/step - loss: 7.9614e-04\n",
            "Epoch 80/100\n",
            "88/88 [==============================] - 16s 184ms/step - loss: 7.8037e-04\n",
            "Epoch 81/100\n",
            "88/88 [==============================] - 16s 185ms/step - loss: 7.5019e-04\n",
            "Epoch 82/100\n",
            "88/88 [==============================] - 17s 188ms/step - loss: 7.8433e-04\n",
            "Epoch 83/100\n",
            "88/88 [==============================] - 16s 185ms/step - loss: 7.8172e-04\n",
            "Epoch 84/100\n",
            "88/88 [==============================] - 16s 185ms/step - loss: 7.7575e-04\n",
            "Epoch 85/100\n",
            "88/88 [==============================] - 16s 185ms/step - loss: 7.7692e-04\n",
            "Epoch 86/100\n",
            "88/88 [==============================] - 16s 184ms/step - loss: 7.1913e-04\n",
            "Epoch 87/100\n",
            "88/88 [==============================] - 16s 184ms/step - loss: 7.6785e-04\n",
            "Epoch 88/100\n",
            "88/88 [==============================] - 16s 184ms/step - loss: 7.4650e-04\n",
            "Epoch 89/100\n",
            "88/88 [==============================] - 16s 186ms/step - loss: 7.4097e-04\n",
            "Epoch 90/100\n",
            "88/88 [==============================] - 16s 186ms/step - loss: 6.6736e-04\n",
            "Epoch 91/100\n",
            "88/88 [==============================] - 16s 184ms/step - loss: 7.3754e-04\n",
            "Epoch 92/100\n",
            "88/88 [==============================] - 16s 185ms/step - loss: 7.8775e-04\n",
            "Epoch 93/100\n",
            "88/88 [==============================] - 16s 185ms/step - loss: 7.1703e-04\n",
            "Epoch 94/100\n",
            "88/88 [==============================] - 16s 184ms/step - loss: 6.8905e-04\n",
            "Epoch 95/100\n",
            "88/88 [==============================] - 16s 184ms/step - loss: 6.7533e-04\n",
            "Epoch 96/100\n",
            "88/88 [==============================] - 16s 183ms/step - loss: 6.7416e-04\n",
            "Epoch 97/100\n",
            "88/88 [==============================] - 16s 183ms/step - loss: 7.0305e-04\n",
            "Epoch 98/100\n",
            "88/88 [==============================] - 16s 183ms/step - loss: 7.3246e-04\n",
            "Epoch 99/100\n",
            "88/88 [==============================] - 16s 184ms/step - loss: 6.6772e-04\n",
            "Epoch 100/100\n",
            "88/88 [==============================] - 16s 183ms/step - loss: 7.5002e-04\n"
          ]
        },
        {
          "data": {
            "text/plain": [
              "<keras.callbacks.History at 0x240519c3110>"
            ]
          },
          "execution_count": 32,
          "metadata": {},
          "output_type": "execute_result"
        }
      ],
      "source": [
        "regressor.fit(X_train, y_train, epochs = 100, batch_size = 32)"
      ]
    },
    {
      "attachments": {},
      "cell_type": "markdown",
      "metadata": {
        "colab_type": "text",
        "id": "4hRau_lIkrE8"
      },
      "source": [
        "## Part 3 - Making the predictions and visualising the results"
      ]
    },
    {
      "attachments": {},
      "cell_type": "markdown",
      "metadata": {
        "colab_type": "text",
        "id": "SgJO6qEDksxD"
      },
      "source": [
        "### Getting the real stock price of 2017"
      ]
    },
    {
      "cell_type": "code",
      "execution_count": 54,
      "metadata": {
        "colab": {},
        "colab_type": "code",
        "id": "FmBT2zqukxTz"
      },
      "outputs": [
        {
          "data": {
            "text/plain": [
              "35"
            ]
          },
          "execution_count": 54,
          "metadata": {},
          "output_type": "execute_result"
        }
      ],
      "source": [
        "# dataset_test = pd.read_csv('Google_Stock_Price_Test.csv')\n",
        "real_stock_price = dataset_test1.iloc[:, iloc1:iloc2].values\n",
        "arr = real_stock_price\n",
        "# Zmiana typu z string na int\n",
        "for i in range(len(arr)):\n",
        "    arr[i] = round(float(arr[i][0].replace(',', '.')), 3)\n",
        "real_stock_price = arr\n",
        "\n",
        "\n",
        "len(real_stock_price)"
      ]
    },
    {
      "attachments": {},
      "cell_type": "markdown",
      "metadata": {
        "colab_type": "text",
        "id": "GrvrLblxkz42"
      },
      "source": [
        "### Getting the predicted stock price of 2017"
      ]
    },
    {
      "cell_type": "code",
      "execution_count": 34,
      "metadata": {
        "colab": {},
        "colab_type": "code",
        "id": "emikTvUpk3Ck"
      },
      "outputs": [
        {
          "name": "stdout",
          "output_type": "stream",
          "text": [
            "2/2 [==============================] - 2s 35ms/step\n"
          ]
        }
      ],
      "source": [
        "dataset_total = pd.concat((dataset_train1['Kurs zamknięcia'], dataset_test1['Kurs zamknięcia']), axis = 0)\n",
        "arr = dataset_total\n",
        "# Zmiana typu z string na int\n",
        "for i in range(len(arr)):\n",
        "    arr[i] = (float(arr[i].replace(',', '.')))\n",
        "dataset_total = arr\n",
        "\n",
        "inputs = dataset_total[len(dataset_total) - len(dataset_test1) - timestep:].values\n",
        "inputs = inputs.reshape(-1, 1)\n",
        "inputs = sc.transform(inputs)\n",
        "X_test = []\n",
        "for i in range(timestep, timestep + len(dataset_test1)):\n",
        "    X_test.append(inputs[i - timestep:i, 0])\n",
        "X_test = np.array(X_test)\n",
        "X_test = np.reshape(X_test, (X_test.shape[0], X_test.shape[1], 1))\n",
        "\n",
        "# X_test_combined = X_test\n",
        "\n",
        "# # Dopasowanie kształtu danych testowych\n",
        "# X_test_combined = np.reshape(X_test_combined, (X_test_combined.shape[0], X_test_combined.shape[1], 1))\n",
        "\n",
        "# Predykcja na danych testowych\n",
        "predicted_test_prices = regressor.predict(X_test)\n",
        "predicted_test_prices = sc.inverse_transform(predicted_test_prices)\n",
        "\n",
        "# print(predicted_stock_price)\n",
        "# # Predykcja na danych testowych\n",
        "# # predicted_stock_price = regressor.predict(X_test)\n",
        "# # predicted_stock_price = sc.inverse_transform(predicted_stock_price)\n"
      ]
    },
    {
      "cell_type": "code",
      "execution_count": 35,
      "metadata": {},
      "outputs": [
        {
          "name": "stdout",
          "output_type": "stream",
          "text": [
            "2/2 [==============================] - 0s 35ms/step\n",
            "2/2 [==============================] - 0s 37ms/step\n",
            "2/2 [==============================] - 0s 35ms/step\n",
            "2/2 [==============================] - 0s 40ms/step\n",
            "2/2 [==============================] - 0s 34ms/step\n",
            "2/2 [==============================] - 0s 42ms/step\n",
            "2/2 [==============================] - 0s 38ms/step\n",
            "2/2 [==============================] - 0s 39ms/step\n",
            "2/2 [==============================] - 0s 35ms/step\n",
            "2/2 [==============================] - 0s 39ms/step\n",
            "[[20.234111785888672], [20.467750549316406], [20.543785095214844], [20.4639892578125], [21.180652618408203], [21.239530563354492], [21.105958938598633], [21.2352294921875], [21.344772338867188], [21.448314666748047]]\n"
          ]
        }
      ],
      "source": [
        "# Przewidywanie 10 dni do przodu\n",
        "X_future = X_test.copy()\n",
        "predicted_future_prices = []\n",
        "for i in range(10):\n",
        "    predicted_price = regressor.predict(X_future)\n",
        "    predicted_future_prices.append(predicted_price[0, 0])\n",
        "    X_future = np.roll(X_future, -1)\n",
        "\n",
        "\n",
        "# Skalowanie odwrotne\n",
        "predicted_future_prices = sc.inverse_transform(np.array(predicted_future_prices).reshape(-1, 1))\n",
        "\n",
        "predicted_future_prices=predicted_future_prices.tolist()\n",
        "# Wyświetlanie przewidywanych wartości\n",
        "# pfp_zepak_20230711=[[20.34819],\n",
        "#  [21.669386],\n",
        "#  [22.290026],\n",
        "#  [22.327923],\n",
        "#  [22.439547],\n",
        "#  [22.188908],\n",
        "#  [22.116632],\n",
        "#  [22.198847],\n",
        "#  [22.482422],\n",
        "#  [22.736067]]\n",
        "\n",
        "# pfp_zepak_20230712=[[20.176626],\n",
        "#  [22.483492],\n",
        "#  [23.121317],\n",
        "#  [22.927519],\n",
        "#  [22.81228 ],\n",
        "#  [23.133865],\n",
        "#  [23.50026 ],\n",
        "#  [23.68236 ],\n",
        "#  [23.411707],\n",
        "#  [23.229382]]\n",
        "\n"
      ]
    },
    {
      "attachments": {},
      "cell_type": "markdown",
      "metadata": {
        "colab_type": "text",
        "id": "iFTNs3YHk6FQ"
      },
      "source": [
        "### Visualising the results"
      ]
    },
    {
      "cell_type": "code",
      "execution_count": 36,
      "metadata": {},
      "outputs": [
        {
          "name": "stdout",
          "output_type": "stream",
          "text": [
            "<class 'list'>\n"
          ]
        }
      ],
      "source": [
        "import itertools\n",
        "\n",
        "ppp=[predicted_test_prices, predicted_future_prices]\n",
        "# ppp2=[predicted_test_prices[:-1], pfp_zepak_20230711]\n",
        "# ppp3=[predicted_test_prices[:-1], pfp_zepak_20230712]\n",
        "ppp=list(itertools.chain.from_iterable(ppp))\n",
        "# ppp2=list(itertools.chain.from_iterable(ppp2))\n",
        "# ppp3=list(itertools.chain.from_iterable(ppp3))\n",
        "# print(type(ppp3))\n",
        "# print(type(ppp2))\n",
        "print(type(ppp))\n"
      ]
    },
    {
      "cell_type": "code",
      "execution_count": 37,
      "metadata": {},
      "outputs": [
        {
          "data": {
            "text/plain": [
              "'2023-08-21'"
            ]
          },
          "execution_count": 37,
          "metadata": {},
          "output_type": "execute_result"
        }
      ],
      "source": [
        "ostatnia_wartosc"
      ]
    },
    {
      "cell_type": "code",
      "execution_count": 53,
      "metadata": {
        "colab": {
          "base_uri": "https://localhost:8080/",
          "height": 295
        },
        "colab_type": "code",
        "id": "8OUI8U49k9tH",
        "outputId": "db0ed15e-071b-4bae-955e-0eda3df95238"
      },
      "outputs": [
        {
          "data": {
            "image/png": "[encoded data removed]",
            "text/plain": [
              "<Figure size 640x480 with 1 Axes>"
            ]
          },
          "metadata": {},
          "output_type": "display_data"
        }
      ],
      "source": [
        "\n",
        "r=28\n",
        "lable=[]\n",
        "ostatnia_wartosc=str(ostatnia_wartosc)\n",
        "for i in range(r):\n",
        "    lable.append(i)\n",
        "    \n",
        "lables=[]\n",
        "for i in range(r):\n",
        "    lables.append('')\n",
        "\n",
        "lables[0]=str(data)\n",
        "lables[delta]=str(ostatnia_wartosc)\n",
        "# lables[len(real_stock_price)-2]='D -1'\n",
        "\n",
        "ostatnia_wartosc = datetime.strptime(ostatnia_wartosc, '%Y-%m-%d').date()\n",
        "# lables[len(ppp3)]=(ostatnia_wartosc+timedelta(days=10)).strftime('%Y-%m-%d')\n",
        "\n",
        "plt.plot(real_stock_price, color = 'red', label = 'True Price')\n",
        "# plt.plot(ppp3, color = 'grey', linestyle='dashed', alpha=1, label = 'Old D-2 Predicted Stock Price')\n",
        "#plt.plot(ppp2, color = 'black', linestyle='dashed', alpha=0.2,  label = 'Old D-1 Predicted Stock Price')\n",
        "# plt.plot(ppp, color = 'green', linestyle='dashed', label = 'Future Predicted Stock Price')\n",
        "# plt.plot(predicted_test_prices, color = 'blue', label = 'Test Predicted Stock Price')\n",
        "# plt.gca().invert_xaxis()\n",
        "plt.xticks(ticks=lable, labels=lables, rotation=85)\n",
        "plt.title('ZEPAK Stock Price Prediction')\n",
        "plt.xlabel('Time')\n",
        "plt.ylabel('ZEPAK Stock Price')\n",
        "plt.legend()\n",
        "\n",
        "plt.show()"
      ]
    }
  ],
  "metadata": {
    "colab": {
      "collapsed_sections": [],
      "name": "recurrent_neural_network.ipynb",
      "provenance": []
    },
    "kernelspec": {
      "display_name": "Python 3",
      "name": "python3"
    },
    "language_info": {
      "codemirror_mode": {
        "name": "ipython",
        "version": 3
      },
      "file_extension": ".py",
      "mimetype": "text/x-python",
      "name": "python",
      "nbconvert_exporter": "python",
      "pygments_lexer": "ipython3",
      "version": "3.11.3"
    }
  },
  "nbformat": 4,
  "nbformat_minor": 0
}
