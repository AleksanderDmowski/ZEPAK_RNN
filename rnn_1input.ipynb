{
  "cells": [
    {
      "attachments": {},
      "cell_type": "markdown",
      "metadata": {
        "colab_type": "text",
        "id": "xpAuMVCwfWs8"
      },
      "source": [
        "# Recurrent Neural Network"
      ]
    },
    {
      "attachments": {},
      "cell_type": "markdown",
      "metadata": {
        "colab_type": "text",
        "id": "nxJfRe4bfYVA"
      },
      "source": [
        "## Part 1 - Data Preprocessing"
      ]
    },
    {
      "attachments": {},
      "cell_type": "markdown",
      "metadata": {
        "colab_type": "text",
        "id": "ir9zwETrfbrp"
      },
      "source": [
        "### Importing the libraries"
      ]
    },
    {
      "cell_type": "code",
      "execution_count": 2,
      "metadata": {
        "colab": {},
        "colab_type": "code",
        "id": "ZT1f24vHffuf"
      },
      "outputs": [],
      "source": [
        "import numpy as np\n",
        "import matplotlib.pyplot as plt\n",
        "import pandas as pd"
      ]
    },
    {
      "cell_type": "code",
      "execution_count": 3,
      "metadata": {},
      "outputs": [],
      "source": [
        "from datetime import datetime, timedelta"
      ]
    },
    {
      "attachments": {},
      "cell_type": "markdown",
      "metadata": {
        "colab_type": "text",
        "id": "nQ47JAxrgmaL"
      },
      "source": [
        "### Importing the training set"
      ]
    },
    {
      "cell_type": "code",
      "execution_count": 4,
      "metadata": {
        "colab": {},
        "colab_type": "code",
        "id": "1xiv3pJOgqY3"
      },
      "outputs": [
        {
          "name": "stdout",
          "output_type": "stream",
          "text": [
            "2023-08-15\n",
            "2700 2692 8\n"
          ]
        }
      ],
      "source": [
        "stock='ZEPAK'\n",
        "dataset= pd.read_csv('GPW_{}.csv'.format(stock))\n",
        "\n",
        "iloc1=4\n",
        "iloc2=5\n",
        "\n",
        "\n",
        "ostatnia_wartosc = dataset['Dzień'].iloc[-1]\n",
        "ostatnia_wartosc = pd.to_datetime(ostatnia_wartosc).strftime('%Y-%m-%d')\n",
        "ostatnia_wartosc= str(ostatnia_wartosc)\n",
        "\n",
        "delta=10\n",
        "\n",
        "data= datetime.strptime(ostatnia_wartosc, '%Y-%m-%d')\n",
        "data= data-timedelta(days = delta)\n",
        "data= pd.to_datetime(data).strftime('%Y-%m-%d')\n",
        "print(data)\n",
        "\n",
        "dataset_train1= dataset[dataset['Dzień'] < data]\n",
        "training_set1 = dataset_train1.iloc[:,iloc1:iloc2].values\n",
        "arr = training_set1\n",
        "\n",
        "# Zmiana typu z string na int\n",
        "for i in range(len(arr)):\n",
        "    arr[i] = round(float(arr[i][0].replace(',', '.')), 3)\n",
        "training_set = arr\n",
        "\n",
        "dataset_test1 = dataset[dataset['Dzień'] >= data]\n",
        "\n",
        "\n",
        "print(len(dataset),len(training_set),len(dataset_test1))\n",
        "\n"
      ]
    },
    {
      "cell_type": "code",
      "execution_count": 5,
      "metadata": {},
      "outputs": [
        {
          "data": {
            "text/html": [
              "<div>\n",
              "<style scoped>\n",
              "    .dataframe tbody tr th:only-of-type {\n",
              "        vertical-align: middle;\n",
              "    }\n",
              "\n",
              "    .dataframe tbody tr th {\n",
              "        vertical-align: top;\n",
              "    }\n",
              "\n",
              "    .dataframe thead th {\n",
              "        text-align: right;\n",
              "    }\n",
              "</style>\n",
              "<table border=\"1\" class=\"dataframe\">\n",
              "  <thead>\n",
              "    <tr style=\"text-align: right;\">\n",
              "      <th></th>\n",
              "      <th>Nazwa spółki</th>\n",
              "      <th>Kurs otwarcia</th>\n",
              "      <th>Kurs min</th>\n",
              "      <th>Kurs max</th>\n",
              "      <th>Kurs zamknięcia</th>\n",
              "      <th>Zmiana kursu w procent</th>\n",
              "      <th>Wolumen obrotu w szt</th>\n",
              "      <th>Lista transkacji</th>\n",
              "      <th>Wartość obrotu w tys</th>\n",
              "      <th>Dzień</th>\n",
              "    </tr>\n",
              "  </thead>\n",
              "  <tbody>\n",
              "    <tr>\n",
              "      <th>2692</th>\n",
              "      <td>ZEPAK</td>\n",
              "      <td>19,8800</td>\n",
              "      <td>20,1000</td>\n",
              "      <td>19,4400</td>\n",
              "      <td>19,6000</td>\n",
              "      <td>-1,41</td>\n",
              "      <td>20184</td>\n",
              "      <td>294</td>\n",
              "      <td>396,50</td>\n",
              "      <td>2023-08-16 00:00:00</td>\n",
              "    </tr>\n",
              "    <tr>\n",
              "      <th>2693</th>\n",
              "      <td>ZEPAK</td>\n",
              "      <td>19,7200</td>\n",
              "      <td>20,0000</td>\n",
              "      <td>19,5000</td>\n",
              "      <td>19,5600</td>\n",
              "      <td>-0,20</td>\n",
              "      <td>9433</td>\n",
              "      <td>148</td>\n",
              "      <td>185,72</td>\n",
              "      <td>2023-08-17 00:00:00</td>\n",
              "    </tr>\n",
              "    <tr>\n",
              "      <th>2694</th>\n",
              "      <td>ZEPAK</td>\n",
              "      <td>19,5600</td>\n",
              "      <td>19,7000</td>\n",
              "      <td>19,4200</td>\n",
              "      <td>19,4200</td>\n",
              "      <td>-0,72</td>\n",
              "      <td>8733</td>\n",
              "      <td>104</td>\n",
              "      <td>170,46</td>\n",
              "      <td>2023-08-18 00:00:00</td>\n",
              "    </tr>\n",
              "    <tr>\n",
              "      <th>2695</th>\n",
              "      <td>ZEPAK</td>\n",
              "      <td>19,4400</td>\n",
              "      <td>19,8800</td>\n",
              "      <td>19,4000</td>\n",
              "      <td>19,4600</td>\n",
              "      <td>0,21</td>\n",
              "      <td>10480</td>\n",
              "      <td>98</td>\n",
              "      <td>205,64</td>\n",
              "      <td>2023-08-21 00:00:00</td>\n",
              "    </tr>\n",
              "    <tr>\n",
              "      <th>2696</th>\n",
              "      <td>ZEPAK</td>\n",
              "      <td>19,6800</td>\n",
              "      <td>19,6800</td>\n",
              "      <td>19,3000</td>\n",
              "      <td>19,3000</td>\n",
              "      <td>-0,82</td>\n",
              "      <td>7537</td>\n",
              "      <td>104</td>\n",
              "      <td>146,48</td>\n",
              "      <td>2023-08-22 00:00:00</td>\n",
              "    </tr>\n",
              "    <tr>\n",
              "      <th>2697</th>\n",
              "      <td>ZEPAK</td>\n",
              "      <td>19,3000</td>\n",
              "      <td>19,9000</td>\n",
              "      <td>19,3000</td>\n",
              "      <td>19,6000</td>\n",
              "      <td>1,55</td>\n",
              "      <td>10591</td>\n",
              "      <td>89</td>\n",
              "      <td>205,84</td>\n",
              "      <td>2023-08-23 00:00:00</td>\n",
              "    </tr>\n",
              "    <tr>\n",
              "      <th>2698</th>\n",
              "      <td>ZEPAK</td>\n",
              "      <td>19,7000</td>\n",
              "      <td>19,9000</td>\n",
              "      <td>19,6000</td>\n",
              "      <td>19,6000</td>\n",
              "      <td>0,00</td>\n",
              "      <td>8331</td>\n",
              "      <td>57</td>\n",
              "      <td>164,44</td>\n",
              "      <td>2023-08-24 00:00:00</td>\n",
              "    </tr>\n",
              "    <tr>\n",
              "      <th>2699</th>\n",
              "      <td>ZEPAK</td>\n",
              "      <td>19,6200</td>\n",
              "      <td>20,0000</td>\n",
              "      <td>19,6000</td>\n",
              "      <td>19,9000</td>\n",
              "      <td>1,53</td>\n",
              "      <td>4476</td>\n",
              "      <td>64</td>\n",
              "      <td>88,90</td>\n",
              "      <td>2023-08-25 00:00:00</td>\n",
              "    </tr>\n",
              "  </tbody>\n",
              "</table>\n",
              "</div>"
            ],
            "text/plain": [
              "     Nazwa spółki Kurs otwarcia Kurs min Kurs max Kurs zamknięcia   \n",
              "2692        ZEPAK       19,8800  20,1000  19,4400         19,6000  \\\n",
              "2693        ZEPAK       19,7200  20,0000  19,5000         19,5600   \n",
              "2694        ZEPAK       19,5600  19,7000  19,4200         19,4200   \n",
              "2695        ZEPAK       19,4400  19,8800  19,4000         19,4600   \n",
              "2696        ZEPAK       19,6800  19,6800  19,3000         19,3000   \n",
              "2697        ZEPAK       19,3000  19,9000  19,3000         19,6000   \n",
              "2698        ZEPAK       19,7000  19,9000  19,6000         19,6000   \n",
              "2699        ZEPAK       19,6200  20,0000  19,6000         19,9000   \n",
              "\n",
              "     Zmiana kursu w procent  Wolumen obrotu w szt  Lista transkacji   \n",
              "2692                  -1,41                 20184               294  \\\n",
              "2693                  -0,20                  9433               148   \n",
              "2694                  -0,72                  8733               104   \n",
              "2695                   0,21                 10480                98   \n",
              "2696                  -0,82                  7537               104   \n",
              "2697                   1,55                 10591                89   \n",
              "2698                   0,00                  8331                57   \n",
              "2699                   1,53                  4476                64   \n",
              "\n",
              "     Wartość obrotu w tys                Dzień  \n",
              "2692               396,50  2023-08-16 00:00:00  \n",
              "2693               185,72  2023-08-17 00:00:00  \n",
              "2694               170,46  2023-08-18 00:00:00  \n",
              "2695               205,64  2023-08-21 00:00:00  \n",
              "2696               146,48  2023-08-22 00:00:00  \n",
              "2697               205,84  2023-08-23 00:00:00  \n",
              "2698               164,44  2023-08-24 00:00:00  \n",
              "2699                88,90  2023-08-25 00:00:00  "
            ]
          },
          "execution_count": 5,
          "metadata": {},
          "output_type": "execute_result"
        }
      ],
      "source": [
        "dataset_test1"
      ]
    },
    {
      "cell_type": "code",
      "execution_count": 6,
      "metadata": {},
      "outputs": [
        {
          "data": {
            "text/plain": [
              "'2023-08-15'"
            ]
          },
          "execution_count": 6,
          "metadata": {},
          "output_type": "execute_result"
        }
      ],
      "source": [
        "data"
      ]
    },
    {
      "cell_type": "code",
      "execution_count": 7,
      "metadata": {},
      "outputs": [
        {
          "data": {
            "text/plain": [
              "'2023-08-25'"
            ]
          },
          "execution_count": 7,
          "metadata": {},
          "output_type": "execute_result"
        }
      ],
      "source": [
        "ostatnia_wartosc\n"
      ]
    },
    {
      "attachments": {},
      "cell_type": "markdown",
      "metadata": {
        "colab_type": "text",
        "id": "HT8_2UJegtG5"
      },
      "source": [
        "### Feature Scaling"
      ]
    },
    {
      "cell_type": "code",
      "execution_count": 8,
      "metadata": {
        "colab": {},
        "colab_type": "code",
        "id": "OTrF2kR7gx9x"
      },
      "outputs": [],
      "source": [
        "from sklearn.preprocessing import MinMaxScaler\n",
        "sc = MinMaxScaler(feature_range = (0, 1))\n",
        "training_set_scaled = sc.fit_transform(training_set)\n"
      ]
    },
    {
      "attachments": {},
      "cell_type": "markdown",
      "metadata": {
        "colab_type": "text",
        "id": "JyYgYocqhNUg"
      },
      "source": [
        "### Creating a data structure with 60 timesteps and 1 output"
      ]
    },
    {
      "cell_type": "code",
      "execution_count": 9,
      "metadata": {
        "colab": {},
        "colab_type": "code",
        "id": "iofU21B0i6ST"
      },
      "outputs": [],
      "source": [
        "X_train = []\n",
        "y_train = []\n",
        "X_train2 = []\n",
        "timestep=120\n",
        "for i in range(timestep,  len(training_set)):\n",
        "    X_train.append(training_set_scaled[i-timestep:i, 0])\n",
        "    y_train.append(training_set_scaled[i, 0])\n",
        "X_train, y_train = np.array(X_train), np.array(y_train)"
      ]
    },
    {
      "attachments": {},
      "cell_type": "markdown",
      "metadata": {
        "colab_type": "text",
        "id": "D8yaN7Zvi95l"
      },
      "source": [
        "### Reshaping"
      ]
    },
    {
      "cell_type": "code",
      "execution_count": 10,
      "metadata": {
        "colab": {},
        "colab_type": "code",
        "id": "FOXqJHmNjBkz"
      },
      "outputs": [],
      "source": [
        "X_train = np.reshape(X_train, (X_train.shape[0], X_train.shape[1], 1))\n"
      ]
    },
    {
      "attachments": {},
      "cell_type": "markdown",
      "metadata": {
        "colab_type": "text",
        "id": "ZRRSOJeVjEWV"
      },
      "source": [
        "## Part 2 - Building and Training the RNN"
      ]
    },
    {
      "attachments": {},
      "cell_type": "markdown",
      "metadata": {
        "colab_type": "text",
        "id": "k4XV88JMjHXG"
      },
      "source": [
        "### Importing the Keras libraries and packages"
      ]
    },
    {
      "cell_type": "code",
      "execution_count": 11,
      "metadata": {
        "colab": {
          "base_uri": "https://localhost:8080/",
          "height": 34
        },
        "colab_type": "code",
        "id": "9JRnqsxEjKsD",
        "outputId": "b3e23e78-18aa-4396-c923-c877b8de60e4"
      },
      "outputs": [],
      "source": [
        "from keras.models import Sequential\n",
        "from keras.layers import Dense\n",
        "from keras.layers import LSTM\n",
        "from keras.layers import Dropout\n",
        "from keras.backend import clear_session\n",
        "import tensorflow as tf\n",
        "tf.compat.v1.reset_default_graph()\n",
        "clear_session() \n"
      ]
    },
    {
      "attachments": {},
      "cell_type": "markdown",
      "metadata": {
        "colab_type": "text",
        "id": "FEIE-1s9jNzC"
      },
      "source": [
        "### Initialising the RNN"
      ]
    },
    {
      "cell_type": "code",
      "execution_count": 12,
      "metadata": {
        "colab": {},
        "colab_type": "code",
        "id": "1338dJ0UjRKH"
      },
      "outputs": [],
      "source": [
        "regressor = Sequential()"
      ]
    },
    {
      "attachments": {},
      "cell_type": "markdown",
      "metadata": {
        "colab_type": "text",
        "id": "62eg1OPGjT8z"
      },
      "source": [
        "### Adding the first LSTM layer and some Dropout regularisation"
      ]
    },
    {
      "cell_type": "code",
      "execution_count": 13,
      "metadata": {
        "colab": {},
        "colab_type": "code",
        "id": "2hIinyXUjbVU"
      },
      "outputs": [],
      "source": [
        "regressor.add(LSTM(units = 60, return_sequences=True, input_shape=(X_train.shape[1], X_train.shape[2])))\n",
        "regressor.add(Dropout(0.2))"
      ]
    },
    {
      "attachments": {},
      "cell_type": "markdown",
      "metadata": {
        "colab_type": "text",
        "id": "3XBIYLyOjlMx"
      },
      "source": [
        "### Adding a second LSTM layer and some Dropout regularisation"
      ]
    },
    {
      "cell_type": "code",
      "execution_count": 14,
      "metadata": {
        "colab": {},
        "colab_type": "code",
        "id": "UG7nrVaSjuZ2"
      },
      "outputs": [],
      "source": [
        "regressor.add(LSTM(units = 60, return_sequences = True))\n",
        "regressor.add(Dropout(0.2))"
      ]
    },
    {
      "attachments": {},
      "cell_type": "markdown",
      "metadata": {
        "colab_type": "text",
        "id": "Ey3fHVnGj1cu"
      },
      "source": [
        "### Adding a third LSTM layer and some Dropout regularisation"
      ]
    },
    {
      "cell_type": "code",
      "execution_count": 15,
      "metadata": {
        "colab": {},
        "colab_type": "code",
        "id": "PuNi6PgFj7jO"
      },
      "outputs": [],
      "source": [
        "regressor.add(LSTM(units = 60, return_sequences = True))\n",
        "regressor.add(Dropout(0.2))"
      ]
    },
    {
      "attachments": {},
      "cell_type": "markdown",
      "metadata": {
        "colab_type": "text",
        "id": "SYTrtfTmj933"
      },
      "source": [
        "### Adding a fourth LSTM layer and some Dropout regularisation"
      ]
    },
    {
      "cell_type": "code",
      "execution_count": 16,
      "metadata": {
        "colab": {},
        "colab_type": "code",
        "id": "Jp4Ty8fRkBYV"
      },
      "outputs": [],
      "source": [
        "regressor.add(LSTM(units = 60))\n",
        "regressor.add(Dropout(0.2))"
      ]
    },
    {
      "attachments": {},
      "cell_type": "markdown",
      "metadata": {
        "colab_type": "text",
        "id": "9ABI6rOIkHhk"
      },
      "source": [
        "### Adding the output layer"
      ]
    },
    {
      "cell_type": "code",
      "execution_count": 17,
      "metadata": {
        "colab": {},
        "colab_type": "code",
        "id": "aM6R1z4WkME8"
      },
      "outputs": [],
      "source": [
        "regressor.add(Dense(units = 1))"
      ]
    },
    {
      "attachments": {},
      "cell_type": "markdown",
      "metadata": {
        "colab_type": "text",
        "id": "zLx4K7uUkPSh"
      },
      "source": [
        "### Compiling the RNN"
      ]
    },
    {
      "cell_type": "code",
      "execution_count": 18,
      "metadata": {
        "colab": {},
        "colab_type": "code",
        "id": "XTrhVN-tkbko"
      },
      "outputs": [],
      "source": [
        "regressor.compile(optimizer = 'adam', loss = 'mean_squared_error')"
      ]
    },
    {
      "attachments": {},
      "cell_type": "markdown",
      "metadata": {
        "colab_type": "text",
        "id": "-mPhwKGkkebi"
      },
      "source": [
        "### Fitting the RNN to the Training set"
      ]
    },
    {
      "cell_type": "code",
      "execution_count": 19,
      "metadata": {
        "colab": {
          "base_uri": "https://localhost:8080/",
          "height": 1000
        },
        "colab_type": "code",
        "id": "I06Nkrz5kkb-",
        "outputId": "dc9d947a-4d5c-4dbc-ed45-31bf44b98dfb"
      },
      "outputs": [
        {
          "name": "stdout",
          "output_type": "stream",
          "text": [
            "81/81 [==============================] - 13s 99ms/step - loss: 0.0131\n"
          ]
        },
        {
          "data": {
            "text/plain": [
              "<keras.callbacks.History at 0x24e83ff7c90>"
            ]
          },
          "execution_count": 19,
          "metadata": {},
          "output_type": "execute_result"
        }
      ],
      "source": [
        "regressor.fit(X_train, y_train, epochs =3, batch_size = 32)"
      ]
    },
    {
      "attachments": {},
      "cell_type": "markdown",
      "metadata": {
        "colab_type": "text",
        "id": "4hRau_lIkrE8"
      },
      "source": [
        "## Part 3 - Making the predictions and visualising the results"
      ]
    },
    {
      "attachments": {},
      "cell_type": "markdown",
      "metadata": {
        "colab_type": "text",
        "id": "SgJO6qEDksxD"
      },
      "source": [
        "### Getting the real stock price of 2017"
      ]
    },
    {
      "cell_type": "code",
      "execution_count": 20,
      "metadata": {
        "colab": {},
        "colab_type": "code",
        "id": "FmBT2zqukxTz"
      },
      "outputs": [
        {
          "data": {
            "text/plain": [
              "8"
            ]
          },
          "execution_count": 20,
          "metadata": {},
          "output_type": "execute_result"
        }
      ],
      "source": [
        "# dataset_test = pd.read_csv('Google_Stock_Price_Test.csv')\n",
        "real_stock_price = dataset_test1.iloc[:, iloc1:iloc2].values\n",
        "arr = real_stock_price\n",
        "# Zmiana typu z string na int\n",
        "for i in range(len(arr)):\n",
        "    arr[i] = round(float(arr[i][0].replace(',', '.')), 3)\n",
        "real_stock_price = arr\n",
        "\n",
        "\n",
        "len(real_stock_price)"
      ]
    },
    {
      "attachments": {},
      "cell_type": "markdown",
      "metadata": {
        "colab_type": "text",
        "id": "GrvrLblxkz42"
      },
      "source": [
        "### Getting the predicted stock price of 2017"
      ]
    },
    {
      "cell_type": "code",
      "execution_count": 21,
      "metadata": {
        "colab": {},
        "colab_type": "code",
        "id": "emikTvUpk3Ck"
      },
      "outputs": [
        {
          "name": "stdout",
          "output_type": "stream",
          "text": [
            "1/1 [==============================] - 1s 1s/step\n"
          ]
        }
      ],
      "source": [
        "dataset_total = pd.concat((dataset_train1['Kurs zamknięcia'], dataset_test1['Kurs zamknięcia']), axis = 0)\n",
        "arr = dataset_total\n",
        "# Zmiana typu z string na int\n",
        "for i in range(len(arr)):\n",
        "    arr[i] = (float(arr[i].replace(',', '.')))\n",
        "dataset_total = arr\n",
        "\n",
        "inputs = dataset_total[len(dataset_total) - len(dataset_test1) - timestep:].values\n",
        "inputs = inputs.reshape(-1, 1)\n",
        "inputs = sc.transform(inputs)\n",
        "X_test = []\n",
        "for i in range(timestep, timestep + len(dataset_test1)):\n",
        "    X_test.append(inputs[i - timestep:i, 0])\n",
        "X_test = np.array(X_test)\n",
        "X_test = np.reshape(X_test, (X_test.shape[0], X_test.shape[1], 1))\n",
        "\n",
        "# X_test_combined = X_test\n",
        "\n",
        "# # Dopasowanie kształtu danych testowych\n",
        "# X_test_combined = np.reshape(X_test_combined, (X_test_combined.shape[0], X_test_combined.shape[1], 1))\n",
        "\n",
        "# Predykcja na danych testowych\n",
        "predicted_test_prices = regressor.predict(X_test)\n",
        "predicted_test_prices = sc.inverse_transform(predicted_test_prices)\n",
        "\n",
        "# print(predicted_stock_price)\n",
        "# # Predykcja na danych testowych\n",
        "# # predicted_stock_price = regressor.predict(X_test)\n",
        "# # predicted_stock_price = sc.inverse_transform(predicted_stock_price)\n"
      ]
    },
    {
      "cell_type": "code",
      "execution_count": 22,
      "metadata": {},
      "outputs": [
        {
          "name": "stdout",
          "output_type": "stream",
          "text": [
            "1/1 [==============================] - 0s 34ms/step\n",
            "1/1 [==============================] - 0s 35ms/step\n",
            "1/1 [==============================] - 0s 32ms/step\n",
            "1/1 [==============================] - 0s 31ms/step\n",
            "1/1 [==============================] - 0s 32ms/step\n",
            "1/1 [==============================] - 0s 33ms/step\n",
            "1/1 [==============================] - 0s 33ms/step\n",
            "1/1 [==============================] - 0s 32ms/step\n",
            "1/1 [==============================] - 0s 35ms/step\n",
            "1/1 [==============================] - 0s 33ms/step\n"
          ]
        }
      ],
      "source": [
        "# Przewidywanie 10 dni do przodu\n",
        "X_future = X_test.copy()\n",
        "predicted_future_prices = []\n",
        "for i in range(10):\n",
        "    predicted_price = regressor.predict(X_future)\n",
        "    predicted_future_prices.append(predicted_price[0, 0])\n",
        "    X_future = np.roll(X_future, -1)\n",
        "\n",
        "\n",
        "# Skalowanie odwrotne\n",
        "predicted_future_prices = sc.inverse_transform(np.array(predicted_future_prices).reshape(-1, 1))\n",
        "\n",
        "predicted_future_prices=predicted_future_prices.tolist()\n",
        "# Wyświetlanie przewidywanych wartości\n",
        "# pfp_zepak_20230711=[[20.34819],\n",
        "#  [21.669386],\n",
        "#  [22.290026],\n",
        "#  [22.327923],\n",
        "#  [22.439547],\n",
        "#  [22.188908],\n",
        "#  [22.116632],\n",
        "#  [22.198847],\n",
        "#  [22.482422],\n",
        "#  [22.736067]]\n",
        "\n",
        "# pfp_zepak_20230712=[[20.176626],\n",
        "#  [22.483492],\n",
        "#  [23.121317],\n",
        "#  [22.927519],\n",
        "#  [22.81228 ],\n",
        "#  [23.133865],\n",
        "#  [23.50026 ],\n",
        "#  [23.68236 ],\n",
        "#  [23.411707],\n",
        "#  [23.229382]]\n",
        "\n"
      ]
    },
    {
      "attachments": {},
      "cell_type": "markdown",
      "metadata": {
        "colab_type": "text",
        "id": "iFTNs3YHk6FQ"
      },
      "source": [
        "### Visualising the results"
      ]
    },
    {
      "cell_type": "code",
      "execution_count": 23,
      "metadata": {},
      "outputs": [
        {
          "name": "stdout",
          "output_type": "stream",
          "text": [
            "<class 'list'>\n"
          ]
        }
      ],
      "source": [
        "import itertools\n",
        "\n",
        "ppp=[predicted_test_prices, predicted_future_prices]\n",
        "# ppp2=[predicted_test_prices[:-1], pfp_zepak_20230711]\n",
        "# ppp3=[predicted_test_prices[:-1], pfp_zepak_20230712]\n",
        "ppp=list(itertools.chain.from_iterable(ppp))\n",
        "# ppp2=list(itertools.chain.from_iterable(ppp2))\n",
        "# ppp3=list(itertools.chain.from_iterable(ppp3))\n",
        "# print(type(ppp3))\n",
        "# print(type(ppp2))\n",
        "print(type(ppp))\n"
      ]
    },
    {
      "cell_type": "code",
      "execution_count": 24,
      "metadata": {},
      "outputs": [
        {
          "data": {
            "text/plain": [
              "'2023-08-25'"
            ]
          },
          "execution_count": 24,
          "metadata": {},
          "output_type": "execute_result"
        }
      ],
      "source": [
        "ostatnia_wartosc"
      ]
    },
    {
      "cell_type": "code",
      "execution_count": 27,
      "metadata": {
        "colab": {
          "base_uri": "https://localhost:8080/",
          "height": 295
        },
        "colab_type": "code",
        "id": "8OUI8U49k9tH",
        "outputId": "db0ed15e-071b-4bae-955e-0eda3df95238"
      },
      "outputs": [
        {
          "data": {
            "image/png": "[encoded data removed]",
            "text/plain": [
              "<Figure size 640x480 with 1 Axes>"
            ]
          },
          "metadata": {},
          "output_type": "display_data"
        }
      ],
      "source": [
        "\n",
        "r=delta+9\n",
        "\n",
        "lable=[]\n",
        "ostatnia_wartosc=str(ostatnia_wartosc)\n",
        "for i in range(r):\n",
        "    lable.append(i)\n",
        "    \n",
        "lables=[]\n",
        "for i in range(r):\n",
        "    lables.append('')\n",
        "\n",
        "lables[0]=str(data)\n",
        "lables[len(real_stock_price)-1]=str(ostatnia_wartosc)\n",
        "lables[len(real_stock_price)-2]='D −1'\n",
        "lables[len(real_stock_price)]='D +1'\n",
        "\n",
        "ostatnia_wartosc = datetime.strptime(ostatnia_wartosc, '%Y-%m-%d').date()\n",
        "# lables[len(ppp3)]=(ostatnia_wartosc+timedelta(days=10)).strftime('%Y-%m-%d')\n",
        "\n",
        "plt.plot(real_stock_price, color = 'red', label = 'True Price')\n",
        "# plt.plot(ppp3, color = 'grey', linestyle='dashed', alpha=1, label = 'Old D-2 Predicted Stock Price')\n",
        "#plt.plot(ppp2, color = 'black', linestyle='dashed', alpha=0.2,  label = 'Old D-1 Predicted Stock Price')\n",
        "plt.plot(ppp, color = 'green', linestyle='dashed', label = 'Future Predicted Stock Price')\n",
        "plt.plot(predicted_test_prices, color = 'blue', label = 'Test Predicted Stock Price')\n",
        "# plt.gca().invert_xaxis()\n",
        "plt.xticks(ticks=lable, labels=lables, rotation=85)\n",
        "plt.title('{} Stock Price Prediction'.format(stock))\n",
        "plt.xlabel('Time')\n",
        "plt.ylabel('{} Stock Price'.format(stock))\n",
        "plt.legend()\n",
        "\n",
        "regressor.save(r'C:\\Users\\Aleksander\\Desktop\\ZEPAK_RNN\\{}_RNN_MODEL.h5'.format(stock))\n",
        "plt.savefig(r'C:\\Users\\Aleksander\\Desktop\\ZEPAK_RNN\\{}_prediction.png'.format(stock), bbox_inches=\"tight\")\n",
        "# plt.show()\n"
      ]
    }
  ],
  "metadata": {
    "colab": {
      "collapsed_sections": [],
      "name": "recurrent_neural_network.ipynb",
      "provenance": []
    },
    "kernelspec": {
      "display_name": "Python 3",
      "name": "python3"
    },
    "language_info": {
      "codemirror_mode": {
        "name": "ipython",
        "version": 3
      },
      "file_extension": ".py",
      "mimetype": "text/x-python",
      "name": "python",
      "nbconvert_exporter": "python",
      "pygments_lexer": "ipython3",
      "version": "3.11.3"
    }
  },
  "nbformat": 4,
  "nbformat_minor": 0
}
